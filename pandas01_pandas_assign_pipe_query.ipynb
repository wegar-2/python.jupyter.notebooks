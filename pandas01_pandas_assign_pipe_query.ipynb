{
 "cells": [
  {
   "cell_type": "code",
   "execution_count": 1,
   "id": "702da038-3164-40dc-ac71-4c759f7dccd3",
   "metadata": {},
   "outputs": [],
   "source": [
    "import numpy as np\n",
    "import pandas as pd\n",
    "from src.datasets_generator import DatasetsGenerator"
   ]
  },
  {
   "cell_type": "markdown",
   "id": "aa317be2-4721-4810-90c1-43d116d2ae1e",
   "metadata": {},
   "source": [
    "### 0. Get Some Data"
   ]
  },
  {
   "cell_type": "code",
   "execution_count": 2,
   "id": "f102cbe8-3a4f-40df-b11e-bcf554823923",
   "metadata": {},
   "outputs": [],
   "source": [
    "x, y = DatasetsGenerator.get_generic_regression_dataset()"
   ]
  },
  {
   "cell_type": "code",
   "execution_count": 3,
   "id": "78962018-87c0-4c73-8c4c-6a1e392398b7",
   "metadata": {},
   "outputs": [
    {
     "name": "stdout",
     "output_type": "stream",
     "text": [
      "2000\n"
     ]
    }
   ],
   "source": [
    "print(x.shape[0])"
   ]
  },
  {
   "cell_type": "code",
   "execution_count": 4,
   "id": "c0899f1f-cee5-4399-874d-dac6712eb603",
   "metadata": {},
   "outputs": [
    {
     "data": {
      "text/html": [
       "<div>\n",
       "<style scoped>\n",
       "    .dataframe tbody tr th:only-of-type {\n",
       "        vertical-align: middle;\n",
       "    }\n",
       "\n",
       "    .dataframe tbody tr th {\n",
       "        vertical-align: top;\n",
       "    }\n",
       "\n",
       "    .dataframe thead th {\n",
       "        text-align: right;\n",
       "    }\n",
       "</style>\n",
       "<table border=\"1\" class=\"dataframe\">\n",
       "  <thead>\n",
       "    <tr style=\"text-align: right;\">\n",
       "      <th></th>\n",
       "      <th>X_1</th>\n",
       "      <th>X_2</th>\n",
       "      <th>X_3</th>\n",
       "      <th>X_4</th>\n",
       "      <th>X_5</th>\n",
       "    </tr>\n",
       "  </thead>\n",
       "  <tbody>\n",
       "    <tr>\n",
       "      <th>0</th>\n",
       "      <td>-0.660707</td>\n",
       "      <td>-2.165475</td>\n",
       "      <td>-0.966875</td>\n",
       "      <td>-0.496182</td>\n",
       "      <td>-1.439579</td>\n",
       "    </tr>\n",
       "    <tr>\n",
       "      <th>1</th>\n",
       "      <td>-1.488974</td>\n",
       "      <td>0.343890</td>\n",
       "      <td>0.566556</td>\n",
       "      <td>-1.047448</td>\n",
       "      <td>1.306438</td>\n",
       "    </tr>\n",
       "    <tr>\n",
       "      <th>2</th>\n",
       "      <td>-1.086959</td>\n",
       "      <td>-1.010035</td>\n",
       "      <td>0.421872</td>\n",
       "      <td>-0.201817</td>\n",
       "      <td>1.787369</td>\n",
       "    </tr>\n",
       "  </tbody>\n",
       "</table>\n",
       "</div>"
      ],
      "text/plain": [
       "        X_1       X_2       X_3       X_4       X_5\n",
       "0 -0.660707 -2.165475 -0.966875 -0.496182 -1.439579\n",
       "1 -1.488974  0.343890  0.566556 -1.047448  1.306438\n",
       "2 -1.086959 -1.010035  0.421872 -0.201817  1.787369"
      ]
     },
     "execution_count": 4,
     "metadata": {},
     "output_type": "execute_result"
    }
   ],
   "source": [
    "x.head(3)"
   ]
  },
  {
   "cell_type": "code",
   "execution_count": 5,
   "id": "14ddfd58-96ea-45c0-a836-ca5d542e42ee",
   "metadata": {},
   "outputs": [
    {
     "data": {
      "text/html": [
       "<div>\n",
       "<style scoped>\n",
       "    .dataframe tbody tr th:only-of-type {\n",
       "        vertical-align: middle;\n",
       "    }\n",
       "\n",
       "    .dataframe tbody tr th {\n",
       "        vertical-align: top;\n",
       "    }\n",
       "\n",
       "    .dataframe thead th {\n",
       "        text-align: right;\n",
       "    }\n",
       "</style>\n",
       "<table border=\"1\" class=\"dataframe\">\n",
       "  <thead>\n",
       "    <tr style=\"text-align: right;\">\n",
       "      <th></th>\n",
       "      <th>Y_1</th>\n",
       "    </tr>\n",
       "  </thead>\n",
       "  <tbody>\n",
       "    <tr>\n",
       "      <th>0</th>\n",
       "      <td>0.172519</td>\n",
       "    </tr>\n",
       "    <tr>\n",
       "      <th>1</th>\n",
       "      <td>1.635483</td>\n",
       "    </tr>\n",
       "    <tr>\n",
       "      <th>2</th>\n",
       "      <td>0.037336</td>\n",
       "    </tr>\n",
       "  </tbody>\n",
       "</table>\n",
       "</div>"
      ],
      "text/plain": [
       "        Y_1\n",
       "0  0.172519\n",
       "1  1.635483\n",
       "2  0.037336"
      ]
     },
     "execution_count": 5,
     "metadata": {},
     "output_type": "execute_result"
    }
   ],
   "source": [
    "y.head(3)"
   ]
  },
  {
   "cell_type": "markdown",
   "id": "6b638681-f867-4270-9fc3-69a894634632",
   "metadata": {},
   "source": [
    "## 1. pd.DataFrame.query"
   ]
  },
  {
   "cell_type": "code",
   "execution_count": 6,
   "id": "4662557e-b236-4ffd-a8dc-c0ed8e2d6a21",
   "metadata": {},
   "outputs": [],
   "source": [
    "x1 = x.copy(deep=True)"
   ]
  },
  {
   "cell_type": "markdown",
   "id": "939092d1-64f4-4f83-aea2-20347279433e",
   "metadata": {},
   "source": [
    "#### 1.1. filtering based on columns only"
   ]
  },
  {
   "cell_type": "code",
   "execution_count": 7,
   "id": "9d775fd4-1770-4349-92e2-3393a703eed4",
   "metadata": {},
   "outputs": [
    {
     "data": {
      "text/html": [
       "<div>\n",
       "<style scoped>\n",
       "    .dataframe tbody tr th:only-of-type {\n",
       "        vertical-align: middle;\n",
       "    }\n",
       "\n",
       "    .dataframe tbody tr th {\n",
       "        vertical-align: top;\n",
       "    }\n",
       "\n",
       "    .dataframe thead th {\n",
       "        text-align: right;\n",
       "    }\n",
       "</style>\n",
       "<table border=\"1\" class=\"dataframe\">\n",
       "  <thead>\n",
       "    <tr style=\"text-align: right;\">\n",
       "      <th></th>\n",
       "      <th>X_1</th>\n",
       "      <th>X_2</th>\n",
       "      <th>X_3</th>\n",
       "      <th>X_4</th>\n",
       "      <th>X_5</th>\n",
       "    </tr>\n",
       "  </thead>\n",
       "  <tbody>\n",
       "    <tr>\n",
       "      <th>0</th>\n",
       "      <td>-0.660707</td>\n",
       "      <td>-2.165475</td>\n",
       "      <td>-0.966875</td>\n",
       "      <td>-0.496182</td>\n",
       "      <td>-1.439579</td>\n",
       "    </tr>\n",
       "    <tr>\n",
       "      <th>3</th>\n",
       "      <td>0.851111</td>\n",
       "      <td>-1.646772</td>\n",
       "      <td>0.489804</td>\n",
       "      <td>0.228755</td>\n",
       "      <td>0.242545</td>\n",
       "    </tr>\n",
       "    <tr>\n",
       "      <th>7</th>\n",
       "      <td>-0.090197</td>\n",
       "      <td>-0.157473</td>\n",
       "      <td>-1.794185</td>\n",
       "      <td>1.775847</td>\n",
       "      <td>-0.113730</td>\n",
       "    </tr>\n",
       "    <tr>\n",
       "      <th>8</th>\n",
       "      <td>0.995375</td>\n",
       "      <td>0.038744</td>\n",
       "      <td>0.724757</td>\n",
       "      <td>-0.081434</td>\n",
       "      <td>-0.067969</td>\n",
       "    </tr>\n",
       "    <tr>\n",
       "      <th>9</th>\n",
       "      <td>0.975762</td>\n",
       "      <td>0.345924</td>\n",
       "      <td>-0.321714</td>\n",
       "      <td>0.455418</td>\n",
       "      <td>1.289285</td>\n",
       "    </tr>\n",
       "  </tbody>\n",
       "</table>\n",
       "</div>"
      ],
      "text/plain": [
       "        X_1       X_2       X_3       X_4       X_5\n",
       "0 -0.660707 -2.165475 -0.966875 -0.496182 -1.439579\n",
       "3  0.851111 -1.646772  0.489804  0.228755  0.242545\n",
       "7 -0.090197 -0.157473 -1.794185  1.775847 -0.113730\n",
       "8  0.995375  0.038744  0.724757 -0.081434 -0.067969\n",
       "9  0.975762  0.345924 -0.321714  0.455418  1.289285"
      ]
     },
     "execution_count": 7,
     "metadata": {},
     "output_type": "execute_result"
    }
   ],
   "source": [
    "temp = x1.query('X_1 >= X_2')\n",
    "temp.head()"
   ]
  },
  {
   "cell_type": "markdown",
   "id": "f1dbea66-686b-4544-bdcf-ab9cab863a14",
   "metadata": {},
   "source": [
    "#### 1.2. filtering based on transformations of columns"
   ]
  },
  {
   "cell_type": "code",
   "execution_count": 8,
   "id": "af01ff3e-700d-4e3c-af24-f4157cb8bd1a",
   "metadata": {},
   "outputs": [
    {
     "data": {
      "text/html": [
       "<div>\n",
       "<style scoped>\n",
       "    .dataframe tbody tr th:only-of-type {\n",
       "        vertical-align: middle;\n",
       "    }\n",
       "\n",
       "    .dataframe tbody tr th {\n",
       "        vertical-align: top;\n",
       "    }\n",
       "\n",
       "    .dataframe thead th {\n",
       "        text-align: right;\n",
       "    }\n",
       "</style>\n",
       "<table border=\"1\" class=\"dataframe\">\n",
       "  <thead>\n",
       "    <tr style=\"text-align: right;\">\n",
       "      <th></th>\n",
       "      <th>X_1</th>\n",
       "      <th>X_2</th>\n",
       "      <th>X_3</th>\n",
       "      <th>X_4</th>\n",
       "      <th>X_5</th>\n",
       "    </tr>\n",
       "  </thead>\n",
       "  <tbody>\n",
       "    <tr>\n",
       "      <th>1</th>\n",
       "      <td>-1.488974</td>\n",
       "      <td>0.343890</td>\n",
       "      <td>0.566556</td>\n",
       "      <td>-1.047448</td>\n",
       "      <td>1.306438</td>\n",
       "    </tr>\n",
       "    <tr>\n",
       "      <th>2</th>\n",
       "      <td>-1.086959</td>\n",
       "      <td>-1.010035</td>\n",
       "      <td>0.421872</td>\n",
       "      <td>-0.201817</td>\n",
       "      <td>1.787369</td>\n",
       "    </tr>\n",
       "    <tr>\n",
       "      <th>8</th>\n",
       "      <td>0.995375</td>\n",
       "      <td>0.038744</td>\n",
       "      <td>0.724757</td>\n",
       "      <td>-0.081434</td>\n",
       "      <td>-0.067969</td>\n",
       "    </tr>\n",
       "    <tr>\n",
       "      <th>9</th>\n",
       "      <td>0.975762</td>\n",
       "      <td>0.345924</td>\n",
       "      <td>-0.321714</td>\n",
       "      <td>0.455418</td>\n",
       "      <td>1.289285</td>\n",
       "    </tr>\n",
       "    <tr>\n",
       "      <th>11</th>\n",
       "      <td>0.595217</td>\n",
       "      <td>0.568308</td>\n",
       "      <td>-0.159772</td>\n",
       "      <td>1.572464</td>\n",
       "      <td>2.136379</td>\n",
       "    </tr>\n",
       "  </tbody>\n",
       "</table>\n",
       "</div>"
      ],
      "text/plain": [
       "         X_1       X_2       X_3       X_4       X_5\n",
       "1  -1.488974  0.343890  0.566556 -1.047448  1.306438\n",
       "2  -1.086959 -1.010035  0.421872 -0.201817  1.787369\n",
       "8   0.995375  0.038744  0.724757 -0.081434 -0.067969\n",
       "9   0.975762  0.345924 -0.321714  0.455418  1.289285\n",
       "11  0.595217  0.568308 -0.159772  1.572464  2.136379"
      ]
     },
     "execution_count": 8,
     "metadata": {},
     "output_type": "execute_result"
    }
   ],
   "source": [
    "temp = x1.query('X_1**2 >= X_2**2')\n",
    "temp.head()"
   ]
  },
  {
   "cell_type": "markdown",
   "id": "daa9ad63-41d3-40c8-ae54-223543c3c854",
   "metadata": {},
   "source": [
    "#### 1.3. filtering based on a variable from namespace"
   ]
  },
  {
   "cell_type": "code",
   "execution_count": 9,
   "id": "5c14bef2-b7b2-4eb8-adb0-7abc8cf4ae9c",
   "metadata": {},
   "outputs": [
    {
     "data": {
      "text/html": [
       "<div>\n",
       "<style scoped>\n",
       "    .dataframe tbody tr th:only-of-type {\n",
       "        vertical-align: middle;\n",
       "    }\n",
       "\n",
       "    .dataframe tbody tr th {\n",
       "        vertical-align: top;\n",
       "    }\n",
       "\n",
       "    .dataframe thead th {\n",
       "        text-align: right;\n",
       "    }\n",
       "</style>\n",
       "<table border=\"1\" class=\"dataframe\">\n",
       "  <thead>\n",
       "    <tr style=\"text-align: right;\">\n",
       "      <th></th>\n",
       "      <th>X_1</th>\n",
       "      <th>X_2</th>\n",
       "      <th>X_3</th>\n",
       "      <th>X_4</th>\n",
       "      <th>X_5</th>\n",
       "    </tr>\n",
       "  </thead>\n",
       "  <tbody>\n",
       "    <tr>\n",
       "      <th>12</th>\n",
       "      <td>1.401164</td>\n",
       "      <td>0.640416</td>\n",
       "      <td>-0.948273</td>\n",
       "      <td>-0.612452</td>\n",
       "      <td>-0.056798</td>\n",
       "    </tr>\n",
       "    <tr>\n",
       "      <th>13</th>\n",
       "      <td>1.439026</td>\n",
       "      <td>0.242398</td>\n",
       "      <td>-0.575685</td>\n",
       "      <td>-0.022274</td>\n",
       "      <td>-0.062724</td>\n",
       "    </tr>\n",
       "    <tr>\n",
       "      <th>24</th>\n",
       "      <td>1.089922</td>\n",
       "      <td>0.918648</td>\n",
       "      <td>-0.192901</td>\n",
       "      <td>-0.614372</td>\n",
       "      <td>-0.722392</td>\n",
       "    </tr>\n",
       "    <tr>\n",
       "      <th>27</th>\n",
       "      <td>1.618858</td>\n",
       "      <td>0.306108</td>\n",
       "      <td>-0.039718</td>\n",
       "      <td>0.583851</td>\n",
       "      <td>-0.494690</td>\n",
       "    </tr>\n",
       "    <tr>\n",
       "      <th>32</th>\n",
       "      <td>1.624671</td>\n",
       "      <td>0.508565</td>\n",
       "      <td>1.075318</td>\n",
       "      <td>0.154416</td>\n",
       "      <td>-1.827894</td>\n",
       "    </tr>\n",
       "  </tbody>\n",
       "</table>\n",
       "</div>"
      ],
      "text/plain": [
       "         X_1       X_2       X_3       X_4       X_5\n",
       "12  1.401164  0.640416 -0.948273 -0.612452 -0.056798\n",
       "13  1.439026  0.242398 -0.575685 -0.022274 -0.062724\n",
       "24  1.089922  0.918648 -0.192901 -0.614372 -0.722392\n",
       "27  1.618858  0.306108 -0.039718  0.583851 -0.494690\n",
       "32  1.624671  0.508565  1.075318  0.154416 -1.827894"
      ]
     },
     "execution_count": 9,
     "metadata": {},
     "output_type": "execute_result"
    }
   ],
   "source": [
    "threshold = 1\n",
    "temp = x1.query('X_1 >= @threshold')\n",
    "temp.head()"
   ]
  },
  {
   "cell_type": "markdown",
   "id": "25d6540c-f772-4ca7-b49c-8f0738e9a600",
   "metadata": {},
   "source": [
    "## 2. pandas.DataFrame.assign"
   ]
  },
  {
   "cell_type": "code",
   "execution_count": 10,
   "id": "8bbb9141-f3e8-498b-9ff2-7d73e2aeb3f9",
   "metadata": {},
   "outputs": [
    {
     "data": {
      "text/html": [
       "<div>\n",
       "<style scoped>\n",
       "    .dataframe tbody tr th:only-of-type {\n",
       "        vertical-align: middle;\n",
       "    }\n",
       "\n",
       "    .dataframe tbody tr th {\n",
       "        vertical-align: top;\n",
       "    }\n",
       "\n",
       "    .dataframe thead th {\n",
       "        text-align: right;\n",
       "    }\n",
       "</style>\n",
       "<table border=\"1\" class=\"dataframe\">\n",
       "  <thead>\n",
       "    <tr style=\"text-align: right;\">\n",
       "      <th></th>\n",
       "      <th>X_1</th>\n",
       "      <th>X_2</th>\n",
       "      <th>X_3</th>\n",
       "      <th>X_4</th>\n",
       "      <th>X_5</th>\n",
       "    </tr>\n",
       "  </thead>\n",
       "  <tbody>\n",
       "    <tr>\n",
       "      <th>0</th>\n",
       "      <td>-0.660707</td>\n",
       "      <td>-2.165475</td>\n",
       "      <td>-0.966875</td>\n",
       "      <td>-0.496182</td>\n",
       "      <td>-1.439579</td>\n",
       "    </tr>\n",
       "    <tr>\n",
       "      <th>1</th>\n",
       "      <td>-1.488974</td>\n",
       "      <td>0.343890</td>\n",
       "      <td>0.566556</td>\n",
       "      <td>-1.047448</td>\n",
       "      <td>1.306438</td>\n",
       "    </tr>\n",
       "    <tr>\n",
       "      <th>2</th>\n",
       "      <td>-1.086959</td>\n",
       "      <td>-1.010035</td>\n",
       "      <td>0.421872</td>\n",
       "      <td>-0.201817</td>\n",
       "      <td>1.787369</td>\n",
       "    </tr>\n",
       "    <tr>\n",
       "      <th>3</th>\n",
       "      <td>0.851111</td>\n",
       "      <td>-1.646772</td>\n",
       "      <td>0.489804</td>\n",
       "      <td>0.228755</td>\n",
       "      <td>0.242545</td>\n",
       "    </tr>\n",
       "    <tr>\n",
       "      <th>4</th>\n",
       "      <td>0.163805</td>\n",
       "      <td>0.195555</td>\n",
       "      <td>-0.003411</td>\n",
       "      <td>-0.029576</td>\n",
       "      <td>-0.566782</td>\n",
       "    </tr>\n",
       "  </tbody>\n",
       "</table>\n",
       "</div>"
      ],
      "text/plain": [
       "        X_1       X_2       X_3       X_4       X_5\n",
       "0 -0.660707 -2.165475 -0.966875 -0.496182 -1.439579\n",
       "1 -1.488974  0.343890  0.566556 -1.047448  1.306438\n",
       "2 -1.086959 -1.010035  0.421872 -0.201817  1.787369\n",
       "3  0.851111 -1.646772  0.489804  0.228755  0.242545\n",
       "4  0.163805  0.195555 -0.003411 -0.029576 -0.566782"
      ]
     },
     "execution_count": 10,
     "metadata": {},
     "output_type": "execute_result"
    }
   ],
   "source": [
    "x2 = x.copy(deep=True)\n",
    "x2.head()"
   ]
  },
  {
   "cell_type": "code",
   "execution_count": 11,
   "id": "e4c77961-8896-4029-8252-d6b5e8f8b28a",
   "metadata": {},
   "outputs": [
    {
     "data": {
      "text/html": [
       "<div>\n",
       "<style scoped>\n",
       "    .dataframe tbody tr th:only-of-type {\n",
       "        vertical-align: middle;\n",
       "    }\n",
       "\n",
       "    .dataframe tbody tr th {\n",
       "        vertical-align: top;\n",
       "    }\n",
       "\n",
       "    .dataframe thead th {\n",
       "        text-align: right;\n",
       "    }\n",
       "</style>\n",
       "<table border=\"1\" class=\"dataframe\">\n",
       "  <thead>\n",
       "    <tr style=\"text-align: right;\">\n",
       "      <th></th>\n",
       "      <th>X_1</th>\n",
       "      <th>X_2</th>\n",
       "      <th>X_3</th>\n",
       "      <th>X_4</th>\n",
       "      <th>X_5</th>\n",
       "      <th>calculate_col</th>\n",
       "    </tr>\n",
       "  </thead>\n",
       "  <tbody>\n",
       "    <tr>\n",
       "      <th>0</th>\n",
       "      <td>-0.660707</td>\n",
       "      <td>-2.165475</td>\n",
       "      <td>-0.966875</td>\n",
       "      <td>-0.496182</td>\n",
       "      <td>-1.439579</td>\n",
       "      <td>16.487793</td>\n",
       "    </tr>\n",
       "    <tr>\n",
       "      <th>1</th>\n",
       "      <td>-1.488974</td>\n",
       "      <td>0.343890</td>\n",
       "      <td>0.566556</td>\n",
       "      <td>-1.047448</td>\n",
       "      <td>1.306438</td>\n",
       "      <td>-30.719404</td>\n",
       "    </tr>\n",
       "    <tr>\n",
       "      <th>2</th>\n",
       "      <td>-1.086959</td>\n",
       "      <td>-1.010035</td>\n",
       "      <td>0.421872</td>\n",
       "      <td>-0.201817</td>\n",
       "      <td>1.787369</td>\n",
       "      <td>-38.470209</td>\n",
       "    </tr>\n",
       "    <tr>\n",
       "      <th>3</th>\n",
       "      <td>0.851111</td>\n",
       "      <td>-1.646772</td>\n",
       "      <td>0.489804</td>\n",
       "      <td>0.228755</td>\n",
       "      <td>0.242545</td>\n",
       "      <td>-7.779338</td>\n",
       "    </tr>\n",
       "    <tr>\n",
       "      <th>4</th>\n",
       "      <td>0.163805</td>\n",
       "      <td>0.195555</td>\n",
       "      <td>-0.003411</td>\n",
       "      <td>-0.029576</td>\n",
       "      <td>-0.566782</td>\n",
       "      <td>11.418186</td>\n",
       "    </tr>\n",
       "  </tbody>\n",
       "</table>\n",
       "</div>"
      ],
      "text/plain": [
       "        X_1       X_2       X_3       X_4       X_5  calculate_col\n",
       "0 -0.660707 -2.165475 -0.966875 -0.496182 -1.439579      16.487793\n",
       "1 -1.488974  0.343890  0.566556 -1.047448  1.306438     -30.719404\n",
       "2 -1.086959 -1.010035  0.421872 -0.201817  1.787369     -38.470209\n",
       "3  0.851111 -1.646772  0.489804  0.228755  0.242545      -7.779338\n",
       "4  0.163805  0.195555 -0.003411 -0.029576 -0.566782      11.418186"
      ]
     },
     "execution_count": 11,
     "metadata": {},
     "output_type": "execute_result"
    }
   ],
   "source": [
    "x2 = x2.assign(calculate_col = x2.X_1 + x2.X_2**3 + 3*x2.X_4 - 20*x2.X_5)\n",
    "x2.head()"
   ]
  },
  {
   "cell_type": "markdown",
   "id": "abbdfe0f-e4e1-4441-8f6d-0467c523e969",
   "metadata": {},
   "source": [
    "## 3. pandas.DataFrame.pipe"
   ]
  },
  {
   "cell_type": "code",
   "execution_count": 12,
   "id": "9ea4b00d-3d0f-47c2-b37e-afb10f6356bb",
   "metadata": {},
   "outputs": [],
   "source": [
    "x3 = x.copy(deep=True)"
   ]
  },
  {
   "cell_type": "code",
   "execution_count": 13,
   "id": "064177d1-24fc-4e1a-bdfc-25f291c720f1",
   "metadata": {},
   "outputs": [],
   "source": [
    "def square_and_shift(data: pd.DataFrame, col: str, shift: float):\n",
    "    data[col] = data[col]**2 + shift\n",
    "    return data"
   ]
  },
  {
   "cell_type": "code",
   "execution_count": 14,
   "id": "61d7f069-ed34-45fc-afe6-cb5e2f2494a2",
   "metadata": {},
   "outputs": [],
   "source": [
    "def sinh(data: pd.DataFrame, col: str):\n",
    "    data[col] = np.sinh(data[col])\n",
    "    return data"
   ]
  },
  {
   "cell_type": "code",
   "execution_count": 15,
   "id": "469f436e-e7b5-4b48-8119-e1c703904da8",
   "metadata": {},
   "outputs": [
    {
     "data": {
      "text/html": [
       "<div>\n",
       "<style scoped>\n",
       "    .dataframe tbody tr th:only-of-type {\n",
       "        vertical-align: middle;\n",
       "    }\n",
       "\n",
       "    .dataframe tbody tr th {\n",
       "        vertical-align: top;\n",
       "    }\n",
       "\n",
       "    .dataframe thead th {\n",
       "        text-align: right;\n",
       "    }\n",
       "</style>\n",
       "<table border=\"1\" class=\"dataframe\">\n",
       "  <thead>\n",
       "    <tr style=\"text-align: right;\">\n",
       "      <th></th>\n",
       "      <th>X_1</th>\n",
       "      <th>X_2</th>\n",
       "      <th>X_3</th>\n",
       "      <th>X_4</th>\n",
       "      <th>X_5</th>\n",
       "    </tr>\n",
       "  </thead>\n",
       "  <tbody>\n",
       "    <tr>\n",
       "      <th>0</th>\n",
       "      <td>-0.660707</td>\n",
       "      <td>-2.165475</td>\n",
       "      <td>-0.966875</td>\n",
       "      <td>-0.496182</td>\n",
       "      <td>-1.439579</td>\n",
       "    </tr>\n",
       "    <tr>\n",
       "      <th>1</th>\n",
       "      <td>-1.488974</td>\n",
       "      <td>0.343890</td>\n",
       "      <td>0.566556</td>\n",
       "      <td>-1.047448</td>\n",
       "      <td>1.306438</td>\n",
       "    </tr>\n",
       "    <tr>\n",
       "      <th>2</th>\n",
       "      <td>-1.086959</td>\n",
       "      <td>-1.010035</td>\n",
       "      <td>0.421872</td>\n",
       "      <td>-0.201817</td>\n",
       "      <td>1.787369</td>\n",
       "    </tr>\n",
       "    <tr>\n",
       "      <th>3</th>\n",
       "      <td>0.851111</td>\n",
       "      <td>-1.646772</td>\n",
       "      <td>0.489804</td>\n",
       "      <td>0.228755</td>\n",
       "      <td>0.242545</td>\n",
       "    </tr>\n",
       "    <tr>\n",
       "      <th>4</th>\n",
       "      <td>0.163805</td>\n",
       "      <td>0.195555</td>\n",
       "      <td>-0.003411</td>\n",
       "      <td>-0.029576</td>\n",
       "      <td>-0.566782</td>\n",
       "    </tr>\n",
       "  </tbody>\n",
       "</table>\n",
       "</div>"
      ],
      "text/plain": [
       "        X_1       X_2       X_3       X_4       X_5\n",
       "0 -0.660707 -2.165475 -0.966875 -0.496182 -1.439579\n",
       "1 -1.488974  0.343890  0.566556 -1.047448  1.306438\n",
       "2 -1.086959 -1.010035  0.421872 -0.201817  1.787369\n",
       "3  0.851111 -1.646772  0.489804  0.228755  0.242545\n",
       "4  0.163805  0.195555 -0.003411 -0.029576 -0.566782"
      ]
     },
     "execution_count": 15,
     "metadata": {},
     "output_type": "execute_result"
    }
   ],
   "source": [
    "x3.head()"
   ]
  },
  {
   "cell_type": "code",
   "execution_count": 16,
   "id": "234d6cbb-da71-4470-bd73-90f7239e6233",
   "metadata": {},
   "outputs": [
    {
     "data": {
      "text/html": [
       "<div>\n",
       "<style scoped>\n",
       "    .dataframe tbody tr th:only-of-type {\n",
       "        vertical-align: middle;\n",
       "    }\n",
       "\n",
       "    .dataframe tbody tr th {\n",
       "        vertical-align: top;\n",
       "    }\n",
       "\n",
       "    .dataframe thead th {\n",
       "        text-align: right;\n",
       "    }\n",
       "</style>\n",
       "<table border=\"1\" class=\"dataframe\">\n",
       "  <thead>\n",
       "    <tr style=\"text-align: right;\">\n",
       "      <th></th>\n",
       "      <th>X_1</th>\n",
       "      <th>X_2</th>\n",
       "      <th>X_3</th>\n",
       "      <th>X_4</th>\n",
       "      <th>X_5</th>\n",
       "    </tr>\n",
       "  </thead>\n",
       "  <tbody>\n",
       "    <tr>\n",
       "      <th>0</th>\n",
       "      <td>10.436533</td>\n",
       "      <td>-4.302024</td>\n",
       "      <td>-0.966875</td>\n",
       "      <td>-0.496182</td>\n",
       "      <td>-1.439579</td>\n",
       "    </tr>\n",
       "    <tr>\n",
       "      <th>1</th>\n",
       "      <td>12.217045</td>\n",
       "      <td>0.350709</td>\n",
       "      <td>0.566556</td>\n",
       "      <td>-1.047448</td>\n",
       "      <td>1.306438</td>\n",
       "    </tr>\n",
       "    <tr>\n",
       "      <th>2</th>\n",
       "      <td>11.181480</td>\n",
       "      <td>-1.190746</td>\n",
       "      <td>0.421872</td>\n",
       "      <td>-0.201817</td>\n",
       "      <td>1.787369</td>\n",
       "    </tr>\n",
       "    <tr>\n",
       "      <th>3</th>\n",
       "      <td>10.724389</td>\n",
       "      <td>-2.498765</td>\n",
       "      <td>0.489804</td>\n",
       "      <td>0.228755</td>\n",
       "      <td>0.242545</td>\n",
       "    </tr>\n",
       "    <tr>\n",
       "      <th>4</th>\n",
       "      <td>10.026832</td>\n",
       "      <td>0.196804</td>\n",
       "      <td>-0.003411</td>\n",
       "      <td>-0.029576</td>\n",
       "      <td>-0.566782</td>\n",
       "    </tr>\n",
       "  </tbody>\n",
       "</table>\n",
       "</div>"
      ],
      "text/plain": [
       "         X_1       X_2       X_3       X_4       X_5\n",
       "0  10.436533 -4.302024 -0.966875 -0.496182 -1.439579\n",
       "1  12.217045  0.350709  0.566556 -1.047448  1.306438\n",
       "2  11.181480 -1.190746  0.421872 -0.201817  1.787369\n",
       "3  10.724389 -2.498765  0.489804  0.228755  0.242545\n",
       "4  10.026832  0.196804 -0.003411 -0.029576 -0.566782"
      ]
     },
     "execution_count": 16,
     "metadata": {},
     "output_type": "execute_result"
    }
   ],
   "source": [
    "x3.pipe(square_and_shift, col=\"X_1\", shift=10).pipe(sinh, col=\"X_2\").head()"
   ]
  },
  {
   "cell_type": "code",
   "execution_count": null,
   "id": "4113b8c1-761f-45ef-b789-7ff1491d9bf5",
   "metadata": {},
   "outputs": [],
   "source": []
  },
  {
   "cell_type": "code",
   "execution_count": null,
   "id": "5d9119d5-4872-43b7-8902-1e6ade6fbbf3",
   "metadata": {},
   "outputs": [],
   "source": []
  }
 ],
 "metadata": {
  "kernelspec": {
   "display_name": "pyjupnotebook",
   "language": "python",
   "name": "pyjupnotebook"
  },
  "language_info": {
   "codemirror_mode": {
    "name": "ipython",
    "version": 3
   },
   "file_extension": ".py",
   "mimetype": "text/x-python",
   "name": "python",
   "nbconvert_exporter": "python",
   "pygments_lexer": "ipython3",
   "version": "3.12.1"
  }
 },
 "nbformat": 4,
 "nbformat_minor": 5
}

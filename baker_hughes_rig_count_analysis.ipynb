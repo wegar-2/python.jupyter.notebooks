{
 "cells": [
  {
   "cell_type": "markdown",
   "id": "94744a1e",
   "metadata": {},
   "source": [
    "# Baker Hughes Worldwide Rig Count vs Oil Prices\n",
    "\n",
    "This notebook contains comparison of the Baker Hughes Worldwide Rig Count data with spot prices of Brent and WTI oil."
   ]
  },
  {
   "cell_type": "markdown",
   "id": "451fc6b5",
   "metadata": {},
   "source": [
    "### Data Sources\n",
    "\n",
    "1. Baker Hughes International Rig Count: available free of charge on [Baker Hughes website](https://rigcount.bakerhughes.com/intl-rig-count/). The specific dataset used here is *Worldwide Rig Counts - Current & Historical Data*\n",
    "2. Prices of Brent and WTI spot prices - available from [EIA](https://www.eia.gov/dnav/pet/pet_pri_spt_s1_d.htm). Note: both prices are in USD per barrell **spot** FOB prices at Europe (specific location not given in EIA spreadsheet) for Brent and in Cushing, Oklahoma for West Texas Intermediate."
   ]
  },
  {
   "cell_type": "markdown",
   "id": "4657be9a",
   "metadata": {},
   "source": [
    "### Sidenote: Importance of Cushing\n",
    "The importance of Cushing for oil industry is nicely explained in the [video by CME](https://www.cmegroup.com/education/courses/introduction-to-crude-oil/the-importance-of-cushing-oklahoma.html): definitely worth your time! \n",
    "Tl;dr: it's the delivery place of oil for NYMEX futures contracts. If you want to find out even more I strongly recommend Iain Clark's book [*Commodity Option Pricing: A Practitioner's Guide*](https://www.amazon.com/Commodity-Option-Pricing-Practitioners-Finance/dp/1119944511) as an entry point. \n",
    "Geography and existing oil infrastructure explains the importance of Cushing - just glance at the map below from a [Business Insider article](https://www.businessinsider.com/cushing-oklahoma-is-the-center-of-the-oil-universe-2016-3?IR=T) - this is clearly not my map, I just share it."
   ]
  },
  {
   "cell_type": "markdown",
   "id": "715247f6",
   "metadata": {},
   "source": [
    "![](./graphics/oil_pipelines_usa.png)"
   ]
  },
  {
   "cell_type": "markdown",
   "id": "f4e9c092",
   "metadata": {},
   "source": [
    "### Sidenote: Delivery Location of Brent Oil\n",
    "\n",
    "The Brent benchmark is not as simple as its popularity would suggest. For oil market outsider like me, the inner workings of how physical delivery of Brent Oil works seem pretty complex. Suffice it to say that Brent is actually a [basket of various North Sea crudes](https://www.theice.com/brent-crude). \n",
    "\n",
    "Concerning the delivery of Brent: it *seems* that the delivery takes place in multiple locations in the North Sea that are agreed upon on a bilateral basis. Much more details are given in this fantastic article: [An Anatomy of the Crude Oil Pricing System](https://www.oxfordenergy.org/wpcms/wp-content/uploads/2011/03/WPM40-AnAnatomyoftheCrudeOilPricingSystem-BassamFattouh-2011.pdf) by Bassam Fattouh.\n",
    "\n",
    "One more interesting pecularity (feature, actually... that's just the way market evolved - cf. Fattouh's article mentioned above) of the Brent market is the presence of Dated Brent contracts - cf. e.g. [this](https://www.theice.com/products/19118094/Daily-Dated-Brent-Future) ICE site. These contract allow for specifying of the delivery date of crude in the current month (as per [this Wikipedia page](https://en.wikipedia.org/wiki/Brent_Crude#Dated_Brent_assessed_prices_and_the_Brent_spot_market))."
   ]
  },
  {
   "cell_type": "code",
   "execution_count": 48,
   "id": "90c2c21f",
   "metadata": {},
   "outputs": [
    {
     "data": {
      "text/plain": [
       "'3.10.4 (main, Jun 14 2022, 14:36:10) [Clang 13.1.6 (clang-1316.0.21.2.5)]'"
      ]
     },
     "execution_count": 48,
     "metadata": {},
     "output_type": "execute_result"
    }
   ],
   "source": [
    "import sys\n",
    "sys.version"
   ]
  },
  {
   "cell_type": "code",
   "execution_count": 49,
   "id": "766f0007",
   "metadata": {},
   "outputs": [],
   "source": [
    "# import of all packages needed\n",
    "import pandas as pd\n",
    "import numpy as np\n",
    "import requests\n",
    "import datetime as dt\n",
    "import os\n",
    "import re"
   ]
  },
  {
   "cell_type": "markdown",
   "id": "a06015e4",
   "metadata": {},
   "source": [
    "## 1. Loading data"
   ]
  },
  {
   "cell_type": "markdown",
   "id": "6b4e6532",
   "metadata": {},
   "source": [
    "### 1.1. Baker-Hughes Worldwide Rig Count"
   ]
  },
  {
   "cell_type": "code",
   "execution_count": 50,
   "id": "0543d5dd",
   "metadata": {},
   "outputs": [],
   "source": [
    "# function for data download & processing\n",
    "def get_rig_oil_count_data(b_load_from_file: bool = True):\n",
    "    if b_load_from_file:\n",
    "        str_rig_count_link = os.path.join(os.path.abspath(os.getcwd()), \"data\", \"WorldwideRigCountAug2022.xlsx\")\n",
    "    else:\n",
    "        str_rig_count_link = \"https://rigcount.bakerhughes.com/static-files/e106a3e4-ddd8-4e7d-93a3-01c3de9e7ac0\"\n",
    "    df = pd.read_excel(str_rig_count_link, sheet_name=\"Worldwide_Rigcount\", header=None, skiprows=6,\n",
    "                       usecols=list(range(1, 11, 1)), na_values=\"nan\")\n",
    "    # drop redundant rows\n",
    "    df = df.loc[~(df.loc[:, 1].isin([\"Avg.\"]) | df.loc[:, 1].isna()), :]\n",
    "    # add columns names\n",
    "    df.columns = df.loc[0, :]\n",
    "    # add column with years data\n",
    "    l_years = [[el]*13 for el in np.arange(2022, 1974, -1)]\n",
    "    df[\"which_year\"] = [iter_val for iter_list in l_years for iter_val in iter_list]\n",
    "    # drop rows with locations\n",
    "    df = df.loc[df[\"Europe\"] != \"Europe\", :]\n",
    "    df.rename(columns={2022: \"which_month\"}, inplace=True)\n",
    "    # drop further redundant rows\n",
    "    df = df.loc[~df[\"Europe\"].isna(), :]\n",
    "    df[\"which_month\"] = [dt.datetime.strptime(el, \"%b\").month for el in df[\"which_month\"]]\n",
    "\n",
    "    def make_period(x):\n",
    "        return pd.Period(dt.date(year=x[\"which_year\"], month=x[\"which_month\"], day=1), freq=\"M\")\n",
    "\n",
    "    df[\"which_yearmonth\"] = df.apply(func=make_period, axis=1)\n",
    "    df.drop(columns=[\"Total Intl.\", \"which_year\", \"which_month\"], inplace=True)\n",
    "    df.sort_values(\"which_yearmonth\", ascending=True, inplace=True)\n",
    "    df.rename(columns={\"U.S.\": \"US\"}, inplace=True)\n",
    "    df.reset_index(drop=True, inplace=True)\n",
    "    return df"
   ]
  },
  {
   "cell_type": "code",
   "execution_count": 51,
   "id": "8a9efddd",
   "metadata": {},
   "outputs": [
    {
     "data": {
      "text/html": [
       "<div>\n",
       "<style scoped>\n",
       "    .dataframe tbody tr th:only-of-type {\n",
       "        vertical-align: middle;\n",
       "    }\n",
       "\n",
       "    .dataframe tbody tr th {\n",
       "        vertical-align: top;\n",
       "    }\n",
       "\n",
       "    .dataframe thead th {\n",
       "        text-align: right;\n",
       "    }\n",
       "</style>\n",
       "<table border=\"1\" class=\"dataframe\">\n",
       "  <thead>\n",
       "    <tr style=\"text-align: right;\">\n",
       "      <th></th>\n",
       "      <th>Latin America</th>\n",
       "      <th>Europe</th>\n",
       "      <th>Africa</th>\n",
       "      <th>Middle East</th>\n",
       "      <th>Asia Pacific</th>\n",
       "      <th>Canada</th>\n",
       "      <th>US</th>\n",
       "      <th>Total World</th>\n",
       "      <th>which_yearmonth</th>\n",
       "    </tr>\n",
       "  </thead>\n",
       "  <tbody>\n",
       "    <tr>\n",
       "      <th>0</th>\n",
       "      <td>327</td>\n",
       "      <td>102</td>\n",
       "      <td>117</td>\n",
       "      <td>160</td>\n",
       "      <td>211</td>\n",
       "      <td>162</td>\n",
       "      <td>1615</td>\n",
       "      <td>2694</td>\n",
       "      <td>1975-01</td>\n",
       "    </tr>\n",
       "    <tr>\n",
       "      <th>1</th>\n",
       "      <td>312</td>\n",
       "      <td>110</td>\n",
       "      <td>122</td>\n",
       "      <td>171</td>\n",
       "      <td>211</td>\n",
       "      <td>181</td>\n",
       "      <td>1611</td>\n",
       "      <td>2718</td>\n",
       "      <td>1975-02</td>\n",
       "    </tr>\n",
       "    <tr>\n",
       "      <th>2</th>\n",
       "      <td>310</td>\n",
       "      <td>113</td>\n",
       "      <td>122</td>\n",
       "      <td>173</td>\n",
       "      <td>208</td>\n",
       "      <td>192</td>\n",
       "      <td>1651</td>\n",
       "      <td>2769</td>\n",
       "      <td>1975-03</td>\n",
       "    </tr>\n",
       "    <tr>\n",
       "      <th>3</th>\n",
       "      <td>303</td>\n",
       "      <td>116</td>\n",
       "      <td>122</td>\n",
       "      <td>169</td>\n",
       "      <td>206</td>\n",
       "      <td>72</td>\n",
       "      <td>1605</td>\n",
       "      <td>2593</td>\n",
       "      <td>1975-04</td>\n",
       "    </tr>\n",
       "    <tr>\n",
       "      <th>4</th>\n",
       "      <td>301</td>\n",
       "      <td>124</td>\n",
       "      <td>123</td>\n",
       "      <td>170</td>\n",
       "      <td>202</td>\n",
       "      <td>45</td>\n",
       "      <td>1592</td>\n",
       "      <td>2557</td>\n",
       "      <td>1975-05</td>\n",
       "    </tr>\n",
       "  </tbody>\n",
       "</table>\n",
       "</div>"
      ],
      "text/plain": [
       "0 Latin America Europe Africa Middle East Asia Pacific Canada    US  \\\n",
       "0           327    102    117         160          211    162  1615   \n",
       "1           312    110    122         171          211    181  1611   \n",
       "2           310    113    122         173          208    192  1651   \n",
       "3           303    116    122         169          206     72  1605   \n",
       "4           301    124    123         170          202     45  1592   \n",
       "\n",
       "0 Total World which_yearmonth  \n",
       "0        2694         1975-01  \n",
       "1        2718         1975-02  \n",
       "2        2769         1975-03  \n",
       "3        2593         1975-04  \n",
       "4        2557         1975-05  "
      ]
     },
     "execution_count": 51,
     "metadata": {},
     "output_type": "execute_result"
    }
   ],
   "source": [
    "df_rigs = get_rig_oil_count_data()\n",
    "df_rigs.head()"
   ]
  },
  {
   "cell_type": "code",
   "execution_count": 52,
   "id": "cf1215be",
   "metadata": {},
   "outputs": [],
   "source": [
    "df_rigs.rename(\n",
    "    columns=dict(zip(\n",
    "        df_rigs.columns, \n",
    "        [re.sub(\" \", \"_\", el.lower()) for el in list(df_rigs.columns)])), \n",
    "    inplace=True\n",
    ")"
   ]
  },
  {
   "cell_type": "code",
   "execution_count": 53,
   "id": "e1ba54fd",
   "metadata": {},
   "outputs": [
    {
     "data": {
      "text/html": [
       "<div>\n",
       "<style scoped>\n",
       "    .dataframe tbody tr th:only-of-type {\n",
       "        vertical-align: middle;\n",
       "    }\n",
       "\n",
       "    .dataframe tbody tr th {\n",
       "        vertical-align: top;\n",
       "    }\n",
       "\n",
       "    .dataframe thead th {\n",
       "        text-align: right;\n",
       "    }\n",
       "</style>\n",
       "<table border=\"1\" class=\"dataframe\">\n",
       "  <thead>\n",
       "    <tr style=\"text-align: right;\">\n",
       "      <th></th>\n",
       "      <th>latin_america</th>\n",
       "      <th>europe</th>\n",
       "      <th>africa</th>\n",
       "      <th>middle_east</th>\n",
       "      <th>asia_pacific</th>\n",
       "      <th>canada</th>\n",
       "      <th>us</th>\n",
       "      <th>total_world</th>\n",
       "      <th>which_yearmonth</th>\n",
       "    </tr>\n",
       "  </thead>\n",
       "  <tbody>\n",
       "    <tr>\n",
       "      <th>0</th>\n",
       "      <td>327</td>\n",
       "      <td>102</td>\n",
       "      <td>117</td>\n",
       "      <td>160</td>\n",
       "      <td>211</td>\n",
       "      <td>162</td>\n",
       "      <td>1615</td>\n",
       "      <td>2694</td>\n",
       "      <td>1975-01</td>\n",
       "    </tr>\n",
       "    <tr>\n",
       "      <th>1</th>\n",
       "      <td>312</td>\n",
       "      <td>110</td>\n",
       "      <td>122</td>\n",
       "      <td>171</td>\n",
       "      <td>211</td>\n",
       "      <td>181</td>\n",
       "      <td>1611</td>\n",
       "      <td>2718</td>\n",
       "      <td>1975-02</td>\n",
       "    </tr>\n",
       "    <tr>\n",
       "      <th>2</th>\n",
       "      <td>310</td>\n",
       "      <td>113</td>\n",
       "      <td>122</td>\n",
       "      <td>173</td>\n",
       "      <td>208</td>\n",
       "      <td>192</td>\n",
       "      <td>1651</td>\n",
       "      <td>2769</td>\n",
       "      <td>1975-03</td>\n",
       "    </tr>\n",
       "    <tr>\n",
       "      <th>3</th>\n",
       "      <td>303</td>\n",
       "      <td>116</td>\n",
       "      <td>122</td>\n",
       "      <td>169</td>\n",
       "      <td>206</td>\n",
       "      <td>72</td>\n",
       "      <td>1605</td>\n",
       "      <td>2593</td>\n",
       "      <td>1975-04</td>\n",
       "    </tr>\n",
       "    <tr>\n",
       "      <th>4</th>\n",
       "      <td>301</td>\n",
       "      <td>124</td>\n",
       "      <td>123</td>\n",
       "      <td>170</td>\n",
       "      <td>202</td>\n",
       "      <td>45</td>\n",
       "      <td>1592</td>\n",
       "      <td>2557</td>\n",
       "      <td>1975-05</td>\n",
       "    </tr>\n",
       "  </tbody>\n",
       "</table>\n",
       "</div>"
      ],
      "text/plain": [
       "0 latin_america europe africa middle_east asia_pacific canada    us  \\\n",
       "0           327    102    117         160          211    162  1615   \n",
       "1           312    110    122         171          211    181  1611   \n",
       "2           310    113    122         173          208    192  1651   \n",
       "3           303    116    122         169          206     72  1605   \n",
       "4           301    124    123         170          202     45  1592   \n",
       "\n",
       "0 total_world which_yearmonth  \n",
       "0        2694         1975-01  \n",
       "1        2718         1975-02  \n",
       "2        2769         1975-03  \n",
       "3        2593         1975-04  \n",
       "4        2557         1975-05  "
      ]
     },
     "execution_count": 53,
     "metadata": {},
     "output_type": "execute_result"
    }
   ],
   "source": [
    "df_rigs.head()"
   ]
  },
  {
   "cell_type": "markdown",
   "id": "38ecb715",
   "metadata": {},
   "source": [
    "### 1.2. Brent and WTI Front Month Futures Price Data"
   ]
  },
  {
   "cell_type": "code",
   "execution_count": 54,
   "id": "b46599d0",
   "metadata": {},
   "outputs": [],
   "source": [
    "def df_load_spot_oil_prices():\n",
    "    str_oil_prices = os.path.join(os.getcwd(), \"data\", \"oil_prices_eia.csv\")\n",
    "    df = pd.read_csv(str_oil_prices, sep=\";\")\n",
    "    df.rename(columns={\"brent_spot\": \"brent\", \"wti_spot\": \"wti\"}, inplace=True)\n",
    "    df[\"quote_date\"] = df.apply(func=lambda x: dt.datetime.strptime(x[\"quote_date\"], \"%Y-%m-%d\").date(), axis=1)\n",
    "    df = df.loc[df[\"quote_date\"] >= dt.date(year=1991, month=1, day=1), :]\n",
    "    df = df.sort_values(\"quote_date\", ascending=True)\n",
    "    df.reset_index(inplace=True, drop=True)\n",
    "    df[[\"wti\", \"brent\"]] = df[[\"wti\", \"brent\"]].fillna(method=\"ffill\")\n",
    "    df.reset_index(inplace=True, drop=True)\n",
    "    return df"
   ]
  },
  {
   "cell_type": "code",
   "execution_count": 55,
   "id": "c9806823",
   "metadata": {},
   "outputs": [
    {
     "data": {
      "text/html": [
       "<div>\n",
       "<style scoped>\n",
       "    .dataframe tbody tr th:only-of-type {\n",
       "        vertical-align: middle;\n",
       "    }\n",
       "\n",
       "    .dataframe tbody tr th {\n",
       "        vertical-align: top;\n",
       "    }\n",
       "\n",
       "    .dataframe thead th {\n",
       "        text-align: right;\n",
       "    }\n",
       "</style>\n",
       "<table border=\"1\" class=\"dataframe\">\n",
       "  <thead>\n",
       "    <tr style=\"text-align: right;\">\n",
       "      <th></th>\n",
       "      <th>quote_date</th>\n",
       "      <th>wti</th>\n",
       "      <th>brent</th>\n",
       "    </tr>\n",
       "  </thead>\n",
       "  <tbody>\n",
       "    <tr>\n",
       "      <th>0</th>\n",
       "      <td>1991-01-02</td>\n",
       "      <td>26.53</td>\n",
       "      <td>26.78</td>\n",
       "    </tr>\n",
       "    <tr>\n",
       "      <th>1</th>\n",
       "      <td>1991-01-03</td>\n",
       "      <td>25.61</td>\n",
       "      <td>25.05</td>\n",
       "    </tr>\n",
       "    <tr>\n",
       "      <th>2</th>\n",
       "      <td>1991-01-04</td>\n",
       "      <td>24.88</td>\n",
       "      <td>24.08</td>\n",
       "    </tr>\n",
       "    <tr>\n",
       "      <th>3</th>\n",
       "      <td>1991-01-07</td>\n",
       "      <td>27.25</td>\n",
       "      <td>25.93</td>\n",
       "    </tr>\n",
       "    <tr>\n",
       "      <th>4</th>\n",
       "      <td>1991-01-08</td>\n",
       "      <td>27.50</td>\n",
       "      <td>25.73</td>\n",
       "    </tr>\n",
       "  </tbody>\n",
       "</table>\n",
       "</div>"
      ],
      "text/plain": [
       "   quote_date    wti  brent\n",
       "0  1991-01-02  26.53  26.78\n",
       "1  1991-01-03  25.61  25.05\n",
       "2  1991-01-04  24.88  24.08\n",
       "3  1991-01-07  27.25  25.93\n",
       "4  1991-01-08  27.50  25.73"
      ]
     },
     "execution_count": 55,
     "metadata": {},
     "output_type": "execute_result"
    }
   ],
   "source": [
    "df = df_load_spot_oil_prices()\n",
    "df.head()"
   ]
  },
  {
   "cell_type": "code",
   "execution_count": 56,
   "id": "5393e742",
   "metadata": {},
   "outputs": [
    {
     "data": {
      "text/html": [
       "<div>\n",
       "<style scoped>\n",
       "    .dataframe tbody tr th:only-of-type {\n",
       "        vertical-align: middle;\n",
       "    }\n",
       "\n",
       "    .dataframe tbody tr th {\n",
       "        vertical-align: top;\n",
       "    }\n",
       "\n",
       "    .dataframe thead th {\n",
       "        text-align: right;\n",
       "    }\n",
       "</style>\n",
       "<table border=\"1\" class=\"dataframe\">\n",
       "  <thead>\n",
       "    <tr style=\"text-align: right;\">\n",
       "      <th></th>\n",
       "      <th>quote_date</th>\n",
       "      <th>wti</th>\n",
       "      <th>brent</th>\n",
       "    </tr>\n",
       "  </thead>\n",
       "  <tbody>\n",
       "    <tr>\n",
       "      <th>8109</th>\n",
       "      <td>2022-09-06</td>\n",
       "      <td>87.35</td>\n",
       "      <td>91.43</td>\n",
       "    </tr>\n",
       "    <tr>\n",
       "      <th>8110</th>\n",
       "      <td>2022-09-07</td>\n",
       "      <td>82.50</td>\n",
       "      <td>86.83</td>\n",
       "    </tr>\n",
       "    <tr>\n",
       "      <th>8111</th>\n",
       "      <td>2022-09-08</td>\n",
       "      <td>84.04</td>\n",
       "      <td>87.99</td>\n",
       "    </tr>\n",
       "    <tr>\n",
       "      <th>8112</th>\n",
       "      <td>2022-09-09</td>\n",
       "      <td>87.27</td>\n",
       "      <td>91.68</td>\n",
       "    </tr>\n",
       "    <tr>\n",
       "      <th>8113</th>\n",
       "      <td>2022-09-12</td>\n",
       "      <td>88.18</td>\n",
       "      <td>93.45</td>\n",
       "    </tr>\n",
       "  </tbody>\n",
       "</table>\n",
       "</div>"
      ],
      "text/plain": [
       "      quote_date    wti  brent\n",
       "8109  2022-09-06  87.35  91.43\n",
       "8110  2022-09-07  82.50  86.83\n",
       "8111  2022-09-08  84.04  87.99\n",
       "8112  2022-09-09  87.27  91.68\n",
       "8113  2022-09-12  88.18  93.45"
      ]
     },
     "execution_count": 56,
     "metadata": {},
     "output_type": "execute_result"
    }
   ],
   "source": [
    "df.tail()"
   ]
  },
  {
   "cell_type": "code",
   "execution_count": 57,
   "id": "b96d4317",
   "metadata": {},
   "outputs": [],
   "source": [
    "# calculate monthly average oil prices\n",
    "df = df.assign(quote_yearmonth=[pd.Period(el, freq=\"M\") for el in df[\"quote_date\"]])\n",
    "df_oil = df.groupby(\"quote_yearmonth\")[[\"wti\", \"brent\"]].mean()\n",
    "df_oil.reset_index(inplace=True, drop=False)"
   ]
  },
  {
   "cell_type": "code",
   "execution_count": 58,
   "id": "4051c57b",
   "metadata": {},
   "outputs": [
    {
     "data": {
      "text/html": [
       "<div>\n",
       "<style scoped>\n",
       "    .dataframe tbody tr th:only-of-type {\n",
       "        vertical-align: middle;\n",
       "    }\n",
       "\n",
       "    .dataframe tbody tr th {\n",
       "        vertical-align: top;\n",
       "    }\n",
       "\n",
       "    .dataframe thead th {\n",
       "        text-align: right;\n",
       "    }\n",
       "</style>\n",
       "<table border=\"1\" class=\"dataframe\">\n",
       "  <thead>\n",
       "    <tr style=\"text-align: right;\">\n",
       "      <th></th>\n",
       "      <th>quote_yearmonth</th>\n",
       "      <th>wti</th>\n",
       "      <th>brent</th>\n",
       "    </tr>\n",
       "  </thead>\n",
       "  <tbody>\n",
       "    <tr>\n",
       "      <th>0</th>\n",
       "      <td>1991-01</td>\n",
       "      <td>25.234091</td>\n",
       "      <td>23.566364</td>\n",
       "    </tr>\n",
       "    <tr>\n",
       "      <th>1</th>\n",
       "      <td>1991-02</td>\n",
       "      <td>20.477500</td>\n",
       "      <td>19.536000</td>\n",
       "    </tr>\n",
       "    <tr>\n",
       "      <th>2</th>\n",
       "      <td>1991-03</td>\n",
       "      <td>19.901500</td>\n",
       "      <td>19.082500</td>\n",
       "    </tr>\n",
       "    <tr>\n",
       "      <th>3</th>\n",
       "      <td>1991-04</td>\n",
       "      <td>20.830000</td>\n",
       "      <td>19.180000</td>\n",
       "    </tr>\n",
       "    <tr>\n",
       "      <th>4</th>\n",
       "      <td>1991-05</td>\n",
       "      <td>21.232273</td>\n",
       "      <td>19.186818</td>\n",
       "    </tr>\n",
       "  </tbody>\n",
       "</table>\n",
       "</div>"
      ],
      "text/plain": [
       "  quote_yearmonth        wti      brent\n",
       "0         1991-01  25.234091  23.566364\n",
       "1         1991-02  20.477500  19.536000\n",
       "2         1991-03  19.901500  19.082500\n",
       "3         1991-04  20.830000  19.180000\n",
       "4         1991-05  21.232273  19.186818"
      ]
     },
     "execution_count": 58,
     "metadata": {},
     "output_type": "execute_result"
    }
   ],
   "source": [
    "df_oil.head()"
   ]
  },
  {
   "cell_type": "markdown",
   "id": "71f4ace9",
   "metadata": {},
   "source": [
    "### 1.3. Joining the data"
   ]
  },
  {
   "cell_type": "code",
   "execution_count": null,
   "id": "3097d364",
   "metadata": {},
   "outputs": [],
   "source": []
  },
  {
   "cell_type": "markdown",
   "id": "214425b9",
   "metadata": {},
   "source": [
    "## 2. Analysis"
   ]
  },
  {
   "cell_type": "code",
   "execution_count": null,
   "id": "38241805",
   "metadata": {},
   "outputs": [],
   "source": []
  },
  {
   "cell_type": "code",
   "execution_count": null,
   "id": "8fb6a4c4",
   "metadata": {},
   "outputs": [],
   "source": []
  }
 ],
 "metadata": {
  "kernelspec": {
   "display_name": "Python 3 (ipykernel)",
   "language": "python",
   "name": "python3"
  },
  "language_info": {
   "codemirror_mode": {
    "name": "ipython",
    "version": 3
   },
   "file_extension": ".py",
   "mimetype": "text/x-python",
   "name": "python",
   "nbconvert_exporter": "python",
   "pygments_lexer": "ipython3",
   "version": "3.12.1"
  }
 },
 "nbformat": 4,
 "nbformat_minor": 5
}

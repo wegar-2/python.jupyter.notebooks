{
 "cells": [
  {
   "cell_type": "code",
   "execution_count": 2,
   "id": "af886808-5ce5-4105-99c0-0f0dd0497d3f",
   "metadata": {},
   "outputs": [],
   "source": [
    "%matplotlib inline"
   ]
  },
  {
   "cell_type": "code",
   "execution_count": 6,
   "id": "df381bc7-d5d8-4ce1-8b58-ce91948945d9",
   "metadata": {},
   "outputs": [],
   "source": [
    "import matplotlib.pyplot as plt\n",
    "from pathlib import Path\n",
    "import pandas as pd\n",
    "import os"
   ]
  },
  {
   "cell_type": "code",
   "execution_count": 11,
   "id": "4333bfb3-2686-42fa-91cf-ebfa63de7798",
   "metadata": {},
   "outputs": [
    {
     "data": {
      "text/plain": [
       "PosixPath('/Users/wegar/github_repos/python.jupyter.notebooks/data')"
      ]
     },
     "execution_count": 11,
     "metadata": {},
     "output_type": "execute_result"
    }
   ],
   "source": [
    "dfpath = Path(os.getcwd()) / \"data\"\n",
    "dfpath"
   ]
  },
  {
   "cell_type": "code",
   "execution_count": 14,
   "id": "479e1ab0-9007-440f-b1e1-c045371ed023",
   "metadata": {},
   "outputs": [
    {
     "name": "stdout",
     "output_type": "stream",
     "text": [
      "/Users/wegar/github_repos/python.jupyter.notebooks/data/warszawa_srednie_miesieczne_wynagrodzenie.csv\n",
      "/Users/wegar/github_repos/python.jupyter.notebooks/data/macro_monthly_data.csv\n",
      "/Users/wegar/github_repos/python.jupyter.notebooks/data/data_sources.md\n",
      "/Users/wegar/github_repos/python.jupyter.notebooks/data/monthly_GUS_data_2024-02-03.xlsx\n",
      "/Users/wegar/github_repos/python.jupyter.notebooks/data/macro_quarterly.xls\n",
      "/Users/wegar/github_repos/python.jupyter.notebooks/data/kredyty_mieszkaniowe.csv\n",
      "/Users/wegar/github_repos/python.jupyter.notebooks/data/nbp_real_estate_prices.csv\n",
      "/Users/wegar/github_repos/python.jupyter.notebooks/data/monthly_GUS_data_2024-02-03.csv\n",
      "/Users/wegar/github_repos/python.jupyter.notebooks/data/macro_quarterly_data.csv\n",
      "/Users/wegar/github_repos/python.jupyter.notebooks/data/warszawa_srednie_miesieczne_wynagrodzenie.xlsx\n",
      "/Users/wegar/github_repos/python.jupyter.notebooks/data/nbp_money_supply.csv\n",
      "/Users/wegar/github_repos/python.jupyter.notebooks/data/nbp_real_estate_prices.xlsx\n",
      "/Users/wegar/github_repos/python.jupyter.notebooks/data/WorldwideRigCountAug2022.xlsx\n",
      "/Users/wegar/github_repos/python.jupyter.notebooks/data/kredyty_mieszkaniowe.xlsx\n",
      "/Users/wegar/github_repos/python.jupyter.notebooks/data/macro_quarterly.csv\n",
      "/Users/wegar/github_repos/python.jupyter.notebooks/data/oil_prices_eia.csv\n",
      "/Users/wegar/github_repos/python.jupyter.notebooks/data/baker_hughes_rig_count_analysis.xlsx\n",
      "/Users/wegar/github_repos/python.jupyter.notebooks/data/miarypieniadza.xls\n"
     ]
    }
   ],
   "source": [
    "for f in dfpath.iterdir():\n",
    "    print(f)"
   ]
  }
 ],
 "metadata": {
  "kernelspec": {
   "display_name": "Python 3 (ipykernel)",
   "language": "python",
   "name": "python3"
  },
  "language_info": {
   "codemirror_mode": {
    "name": "ipython",
    "version": 3
   },
   "file_extension": ".py",
   "mimetype": "text/x-python",
   "name": "python",
   "nbconvert_exporter": "python",
   "pygments_lexer": "ipython3",
   "version": "3.12.1"
  }
 },
 "nbformat": 4,
 "nbformat_minor": 5
}
